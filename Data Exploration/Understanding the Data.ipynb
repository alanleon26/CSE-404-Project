{
 "cells": [
  {
   "cell_type": "markdown",
   "metadata": {},
   "source": [
    "improvements: might want to use vgg_face_weights.h5 for weights instead of imagenet weights"
   ]
  },
  {
   "cell_type": "markdown",
   "metadata": {},
   "source": [
    "# Understanding the Data"
   ]
  },
  {
   "cell_type": "code",
   "execution_count": 34,
   "metadata": {},
   "outputs": [
    {
     "name": "stdout",
     "output_type": "stream",
     "text": [
      "Angelina Jolie, Number of files: 100\n",
      "Brad Pitt, Number of files: 100\n",
      "Denzel Washington, Number of files: 100\n",
      "Hugh Jackman, Number of files: 100\n",
      "Jennifer Lawrence, Number of files: 100\n",
      "Johnny Depp, Number of files: 100\n",
      "Kate Winslet, Number of files: 100\n",
      "Leonardo DiCaprio, Number of files: 100\n",
      "Megan Fox, Number of files: 100\n",
      "Natalie Portman, Number of files: 100\n",
      "Nicole Kidman, Number of files: 100\n",
      "Robert Downey Jr, Number of files: 100\n",
      "Sandra Bullock, Number of files: 100\n",
      "Scarlett Johansson, Number of files: 200\n",
      "Tom Cruise, Number of files: 100\n",
      "Tom Hanks, Number of files: 100\n",
      "Will Smith, Number of files: 100\n",
      "Total number of files in all subfolders: 1800\n"
     ]
    }
   ],
   "source": [
    "import os\n",
    "current_directory = os.getcwd()\n",
    "folder_name = \"Dataset Name\"\n",
    "folder_path = os.path.join(current_directory, folder_name)\n",
    "subfolders = sorted([f.path for f in os.scandir(folder_path) if f.is_dir()])\n",
    "total_files = 0\n",
    "for subfolder in subfolders:\n",
    "    files_in_subfolder = os.listdir(subfolder)\n",
    "    file_count_in_subfolder = len(files_in_subfolder)\n",
    "    subfolder_name = os.path.basename(subfolder)\n",
    "    print(f\"{subfolder_name}, Number of files: {file_count_in_subfolder}\")\n",
    "    total_files += file_count_in_subfolder\n",
    "print(f\"Total number of files in all subfolders: {total_files}\")"
   ]
  },
  {
   "cell_type": "markdown",
   "metadata": {},
   "source": [
    "There are 1800 images in the data sets of 17 different celebrities(classes) each having 100 images except the Scarlett Johansson class which has 200 images. These observations are important to note because it may skew the accacy and/or inaccuracy of a trained model depending how the data is processed and configured."
   ]
  },
  {
   "cell_type": "markdown",
   "metadata": {},
   "source": [
    "**it is important to note that it may difficult to replicate the results in this project if a seed is not used for the training process and since the LOOCV involves shuffling the data this can introduce variability in the training process and result in different model performance metrics between runs.**"
   ]
  }
 ],
 "metadata": {
  "kernelspec": {
   "display_name": "Python 3",
   "language": "python",
   "name": "python3"
  },
  "language_info": {
   "codemirror_mode": {
    "name": "ipython",
    "version": 3
   },
   "file_extension": ".py",
   "mimetype": "text/x-python",
   "name": "python",
   "nbconvert_exporter": "python",
   "pygments_lexer": "ipython3",
   "version": "3.6.4"
  }
 },
 "nbformat": 4,
 "nbformat_minor": 2
}
